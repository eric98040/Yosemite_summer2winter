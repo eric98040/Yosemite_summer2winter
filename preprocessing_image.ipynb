{
 "cells": [
  {
   "cell_type": "code",
   "execution_count": 1,
   "metadata": {},
   "outputs": [
    {
     "data": {
      "text/plain": [
       "<torch._C.Generator at 0x108a81f30>"
      ]
     },
     "execution_count": 1,
     "metadata": {},
     "output_type": "execute_result"
    }
   ],
   "source": [
    "import torch\n",
    "import torch.nn as nn\n",
    "import torch.nn.functional as F\n",
    "import torch.optim as optim\n",
    "from torchvision import transforms\n",
    "from torch.utils.data import Dataset, DataLoader, ConcatDataset, random_split\n",
    "import numpy as np\n",
    "import os\n",
    "from PIL import Image\n",
    "import matplotlib.pyplot as plt\n",
    "\n",
    "np.random.seed(42)\n",
    "torch.manual_seed(42)"
   ]
  },
  {
   "cell_type": "code",
   "execution_count": 2,
   "metadata": {},
   "outputs": [
    {
     "name": "stdout",
     "output_type": "stream",
     "text": [
      "Using mps:0 device\n"
     ]
    }
   ],
   "source": [
    "device = torch.device(\"mps:0\" if torch.backends.mps.is_available() else \"cpu\")\n",
    "print(f\"Using {device} device\")"
   ]
  },
  {
   "cell_type": "code",
   "execution_count": 3,
   "metadata": {},
   "outputs": [
    {
     "name": "stdout",
     "output_type": "stream",
     "text": [
      "PyTorch version:2.1.2\n",
      "MPS 장치를 지원하도록 build 되었는지: True\n",
      "MPS 장치가 사용 가능한지: True\n"
     ]
    },
    {
     "name": "stdout",
     "output_type": "stream",
     "text": [
      "macOS-14.2-arm64-arm-64bit\n"
     ]
    }
   ],
   "source": [
    "print (f\"PyTorch version:{torch.__version__}\") # 1.12.1 이상\n",
    "print(f\"MPS 장치를 지원하도록 build 되었는지: {torch.backends.mps.is_built()}\") # True 여야 합니다.\n",
    "print(f\"MPS 장치가 사용 가능한지: {torch.backends.mps.is_available()}\") # True 여야 합니다.\n",
    "!python -c 'import platform;print(platform.platform())'"
   ]
  },
  {
   "cell_type": "code",
   "execution_count": 4,
   "metadata": {},
   "outputs": [],
   "source": [
    "# Custom Dataset 정의\n",
    "class CustomImageDataset(Dataset):\n",
    "    def __init__(self, img_dir, transform=None, label=0):\n",
    "        self.img_dir = img_dir\n",
    "        self.transform = transform\n",
    "        self.label = label\n",
    "        self.img_paths = [os.path.join(img_dir, img_file) for img_file in os.listdir(img_dir) if img_file.lower().endswith((\"png\", \"jpg\", \"jpeg\"))]\n",
    "\n",
    "    def __len__(self):\n",
    "        return len(self.img_paths)\n",
    "\n",
    "    def __getitem__(self, idx):\n",
    "        img_path = self.img_paths[idx]\n",
    "        image = Image.open(img_path).convert(\"RGB\")\n",
    "        if self.transform:\n",
    "            image = self.transform(image)\n",
    "        return image, self.label\n",
    "\n",
    "# 이미지 경로\n",
    "root_dir = \"/Users/eric/Documents/Research/CDAL/2023_Winter/summer2winter_yosemite\"\n",
    "\n",
    "# 이미지 변환 설정\n",
    "transform = transforms.Compose([\n",
    "    transforms.Resize((256, 256)),\n",
    "    transforms.RandomHorizontalFlip(),\n",
    "    transforms.ToTensor(),\n",
    "    transforms.Normalize(mean=[0.485, 0.456, 0.406], std=[0.229, 0.224, 0.225]),\n",
    "])\n",
    "\n",
    "# 데이터셋 생성\n",
    "train_dataset_A = CustomImageDataset(os.path.join(root_dir, \"trainA\"), transform=transform, label=0)\n",
    "train_dataset_B = CustomImageDataset(os.path.join(root_dir, \"trainB\"), transform=transform, label=1)\n",
    "test_dataset_A = CustomImageDataset(os.path.join(root_dir, \"testA\"), transform=transform, label=0)\n",
    "test_dataset_B = CustomImageDataset(os.path.join(root_dir, \"testB\"), transform=transform, label=1)\n",
    "\n",
    "# 데이터셋 합치기\n",
    "train_dataset = ConcatDataset([train_dataset_A, train_dataset_B])\n",
    "test_dataset = ConcatDataset([test_dataset_A, test_dataset_B])\n",
    "\n",
    "# 검증 데이터셋 분할\n",
    "val_split = 0.2\n",
    "train_size = int((1 - val_split) * len(train_dataset))\n",
    "val_size = len(train_dataset) - train_size\n",
    "\n",
    "# 랜덤 시드를 사용하여 데이터셋 분할\n",
    "generator = torch.Generator().manual_seed(42)  # 동일한 분할을 위한 시드 설정, 안하면 Accuracy & Loss가 매 epoch마다 동일하게 나옴\n",
    "train_dataset_split, val_dataset_split = random_split(\n",
    "    train_dataset, [train_size, val_size], generator=generator)\n",
    "\n",
    "# DataLoader 생성\n",
    "train_loader = DataLoader(train_dataset_split, batch_size=32, shuffle=True)\n",
    "val_loader = DataLoader(val_dataset_split, batch_size=32, shuffle=False)\n",
    "test_loader = DataLoader(test_dataset, batch_size=32, shuffle=False)"
   ]
  },
  {
   "cell_type": "code",
   "execution_count": 5,
   "metadata": {},
   "outputs": [],
   "source": [
    "class CNNModel(nn.Module):\n",
    "    def __init__(self):\n",
    "        super(CNNModel, self).__init__()\n",
    "        self.conv1 = nn.Conv2d(3, 64, kernel_size=3, padding=1)\n",
    "        self.conv2 = nn.Conv2d(64, 128, kernel_size=3, padding=1)\n",
    "        self.conv3 = nn.Conv2d(128, 256, kernel_size=3, padding=1)\n",
    "        self.pool = nn.MaxPool2d(2, 2)\n",
    "        self.fc1 = nn.Linear(256 * 32 * 32, 512)\n",
    "        self.fc2 = nn.Linear(512, 2)\n",
    "        self.dropout = nn.Dropout(0.5)\n",
    "\n",
    "    def forward(self, x):\n",
    "        x = self.pool(F.relu(self.conv1(x)))\n",
    "        x = self.pool(F.relu(self.conv2(x)))\n",
    "        x = self.pool(F.relu(self.conv3(x)))\n",
    "        x = x.view(-1, 256 * 32 * 32)\n",
    "        x = F.relu(self.fc1(x))\n",
    "        x = self.dropout(x)\n",
    "        x = F.relu(self.fc2(x))\n",
    "\n",
    "        return x"
   ]
  },
  {
   "cell_type": "code",
   "execution_count": 6,
   "metadata": {},
   "outputs": [],
   "source": [
    "class EarlyStopping:\n",
    "    def __init__(self, patience=5, min_delta=0):\n",
    "        self.patience = patience\n",
    "        self.min_delta = min_delta\n",
    "        self.counter = 0\n",
    "        self.best_loss = None\n",
    "        self.early_stop = False\n",
    "\n",
    "    def __call__(self, val_loss):\n",
    "        if self.best_loss is None:\n",
    "            self.best_loss = val_loss\n",
    "        elif val_loss > self.best_loss - self.min_delta:\n",
    "            self.counter += 1\n",
    "            if self.counter >= self.patience:\n",
    "                self.early_stop = True\n",
    "        else:\n",
    "            self.best_loss = val_loss\n",
    "            self.counter = 0"
   ]
  },
  {
   "cell_type": "code",
   "execution_count": 7,
   "metadata": {},
   "outputs": [],
   "source": [
    "# Model(GPU로 이동), Loss Function, Optimizer 설정\n",
    "model = CNNModel().to(device)\n",
    "criterion = nn.CrossEntropyLoss()\n",
    "optimizer = optim.Adam(model.parameters(), lr=0.001)\n",
    "early_stopping = EarlyStopping(patience=5, min_delta=0.001)"
   ]
  },
  {
   "cell_type": "code",
   "execution_count": 8,
   "metadata": {},
   "outputs": [],
   "source": [
    "# Mixup 처리 함수 정의\n",
    "def mixup_data(x, y, alpha=1.0):\n",
    "    if alpha > 0:\n",
    "        lam = np.random.beta(alpha, alpha)\n",
    "    else:\n",
    "        lam = 1\n",
    "    batch_size = x.size(0)\n",
    "    index = torch.randperm(batch_size)\n",
    "    mixed_x = lam * x + (1 - lam) * x[index, :]\n",
    "    y_a, y_b = y, y[index]\n",
    "    return mixed_x, y_a, y_b, lam\n",
    "\n",
    "def mixup_criterion(criterion, pred, y_a, y_b, lam):\n",
    "    return lam * criterion(pred, y_a) + (1 - lam) * criterion(pred, y_b)"
   ]
  },
  {
   "cell_type": "code",
   "execution_count": 9,
   "metadata": {},
   "outputs": [
    {
     "name": "stdout",
     "output_type": "stream",
     "text": [
      "Epoch 1/20, Train Loss: 0.0354, Train Accuracy: 55.59%, Val Loss: 0.0221, Val Accuracy: 58.31%\n",
      "Epoch 2/20, Train Loss: 0.0217, Train Accuracy: 55.53%, Val Loss: 0.0221, Val Accuracy: 58.31%\n",
      "Epoch 3/20, Train Loss: 0.0217, Train Accuracy: 55.59%, Val Loss: 0.0221, Val Accuracy: 58.31%\n"
     ]
    },
    {
     "ename": "KeyboardInterrupt",
     "evalue": "",
     "output_type": "error",
     "traceback": [
      "\u001b[0;31m---------------------------------------------------------------------------\u001b[0m",
      "\u001b[0;31mKeyboardInterrupt\u001b[0m                         Traceback (most recent call last)",
      "Cell \u001b[0;32mIn[9], line 37\u001b[0m\n\u001b[1;32m     35\u001b[0m outputs_val \u001b[38;5;241m=\u001b[39m model(batch_X_val)\n\u001b[1;32m     36\u001b[0m loss_val \u001b[38;5;241m=\u001b[39m criterion(outputs_val, batch_y_val)\n\u001b[0;32m---> 37\u001b[0m val_loss \u001b[38;5;241m+\u001b[39m\u001b[38;5;241m=\u001b[39m loss_val\u001b[38;5;241m.\u001b[39mitem()\n\u001b[1;32m     38\u001b[0m _, predicted_val \u001b[38;5;241m=\u001b[39m torch\u001b[38;5;241m.\u001b[39mmax(outputs_val\u001b[38;5;241m.\u001b[39mdata, \u001b[38;5;241m1\u001b[39m)\n\u001b[1;32m     39\u001b[0m val_total \u001b[38;5;241m+\u001b[39m\u001b[38;5;241m=\u001b[39m batch_y_val\u001b[38;5;241m.\u001b[39msize(\u001b[38;5;241m0\u001b[39m)\n",
      "\u001b[0;31mKeyboardInterrupt\u001b[0m: "
     ]
    }
   ],
   "source": [
    "# 손실 및 정확도 추적을 위한 리스트\n",
    "train_losses, train_accuracies, val_losses, val_accuracies = [], [], [], []\n",
    "\n",
    "# 훈련 및 검증\n",
    "epochs = 20\n",
    "final_epoch = 0\n",
    "\n",
    "for epoch in range(epochs):\n",
    "    model.train()\n",
    "    train_loss = 0.0\n",
    "    train_correct = 0\n",
    "    train_total = 0\n",
    "    for batch_X, batch_y in train_loader:\n",
    "        batch_X, batch_y = batch_X.to(device), batch_y.to(device)\n",
    "        optimizer.zero_grad()\n",
    "        outputs = model(batch_X)\n",
    "        loss = criterion(outputs, batch_y)\n",
    "        train_loss += loss.item()\n",
    "        _, predicted = torch.max(outputs.data, 1)\n",
    "        train_total += batch_y.size(0)\n",
    "        train_correct += (predicted == batch_y).sum().item()\n",
    "        loss.backward()\n",
    "        optimizer.step()\n",
    "\n",
    "    train_loss /= train_total\n",
    "    train_accuracy = 100 * train_correct / train_total\n",
    "\n",
    "    model.eval()\n",
    "    val_loss = 0.0\n",
    "    val_correct = 0\n",
    "    val_total = 0\n",
    "    with torch.no_grad():\n",
    "        for batch_X_val, batch_y_val in val_loader:\n",
    "            batch_X_val, batch_y_val = batch_X_val.to(device), batch_y_val.to(device)\n",
    "            outputs_val = model(batch_X_val)\n",
    "            loss_val = criterion(outputs_val, batch_y_val)\n",
    "            val_loss += loss_val.item()\n",
    "            _, predicted_val = torch.max(outputs_val.data, 1)\n",
    "            val_total += batch_y_val.size(0)\n",
    "            val_correct += (predicted_val == batch_y_val).sum().item()\n",
    "\n",
    "    val_loss /= val_total\n",
    "    val_accuracy = 100 * val_correct / val_total\n",
    "\n",
    "    # Early Stopping 체크\n",
    "    early_stopping(val_loss)\n",
    "    if early_stopping.early_stop:\n",
    "        print(\"Early stopping\")\n",
    "        break\n",
    "\n",
    "    train_losses.append(train_loss)\n",
    "    train_accuracies.append(train_accuracy)\n",
    "    val_losses.append(val_loss)\n",
    "    val_accuracies.append(val_accuracy)\n",
    "\n",
    "    print(\n",
    "        f\"Epoch {epoch+1}/{epochs}, Train Loss: {train_loss:.4f}, Train Accuracy: {train_accuracy:.2f}%, Val Loss: {val_loss:.4f}, Val Accuracy: {val_accuracy:.2f}%\"\n",
    "    )\n",
    "    \n",
    "    final_epoch = epoch + 1\n"
   ]
  },
  {
   "cell_type": "code",
   "execution_count": null,
   "metadata": {},
   "outputs": [],
   "source": [
    "def test(model, test_loader):\n",
    "    model.eval()\n",
    "    correct = 0\n",
    "    total = 0\n",
    "    with torch.no_grad():\n",
    "        for images, labels in test_loader:\n",
    "            images, labels = images.to(device), labels.to(device)\n",
    "            outputs = model(images)\n",
    "            _, predicted = torch.max(outputs.data, 1)\n",
    "            total += labels.size(0)\n",
    "            correct += (predicted == labels).sum().item()\n",
    "    return 100 * correct / total\n",
    "\n",
    "# 테스트 세트에서의 성능\n",
    "test_accuracy = test(model, test_loader)\n",
    "print(f\"Test Accuracy: {test_accuracy:.2f}%\")\n"
   ]
  },
  {
   "cell_type": "code",
   "execution_count": null,
   "metadata": {},
   "outputs": [
    {
     "data": {
      "image/png": "[encoded data removed]",
      "text/plain": [
       "<Figure size 1200x500 with 2 Axes>"
      ]
     },
     "metadata": {},
     "output_type": "display_data"
    }
   ],
   "source": [
    "import matplotlib.pyplot as plt\n",
    "\n",
    "# Early Stopping이 일어난 경우, 실제로 완료된 에포크 수: final_epoch\n",
    "\n",
    "# 손실 및 정확도 그래프 그리기\n",
    "plt.figure(figsize=(12, 5))\n",
    "\n",
    "# 손실 그래프\n",
    "plt.subplot(1, 2, 1)\n",
    "plt.plot(range(1, final_epoch + 1), train_losses[:final_epoch], label=\"Train Loss\")\n",
    "plt.plot(range(1, final_epoch + 1), val_losses[:final_epoch], label=\"Validation Loss\")\n",
    "plt.xlabel(\"Epochs\")\n",
    "plt.ylabel(\"Loss\")\n",
    "plt.title(\"Training & Validation Loss\")\n",
    "plt.legend()\n",
    "\n",
    "# 정확도 그래프\n",
    "plt.subplot(1, 2, 2)\n",
    "plt.plot(range(1, final_epoch + 1), train_accuracies[:final_epoch], label=\"Train Accuracy\")\n",
    "plt.plot(range(1, final_epoch + 1), val_accuracies[:final_epoch], label=\"Validation Accuracy\")\n",
    "plt.xlabel(\"Epochs\")\n",
    "plt.ylabel(\"Accuracy\")\n",
    "plt.title(\"Training & Validation Accuracy\")\n",
    "plt.legend()\n",
    "\n",
    "plt.show()\n"
   ]
  },
  {
   "cell_type": "code",
   "execution_count": null,
   "metadata": {},
   "outputs": [],
   "source": []
  },
  {
   "cell_type": "code",
   "execution_count": null,
   "metadata": {},
   "outputs": [
    {
     "name": "stdout",
     "output_type": "stream",
     "text": [
      "Train Dataset Balance: {0: 1231, 1: 962}\n",
      "Validation Dataset Balance: {0: 256, 1: 183}\n",
      "Test Dataset Balance: {0: 309, 1: 238}\n"
     ]
    }
   ],
   "source": [
    "def check_dataset_balance(dataset):\n",
    "    labels = [label for _, label in dataset]\n",
    "    label_counts = {label: labels.count(label) for label in set(labels)}\n",
    "    return label_counts\n",
    "\n",
    "# train, validation, test 데이터셋의 클래스 분포를 확인합니다.\n",
    "train_dataset_balance = check_dataset_balance(train_dataset)\n",
    "val_dataset_balance = check_dataset_balance(val_dataset_split)\n",
    "test_dataset_balance = check_dataset_balance(test_dataset)\n",
    "\n",
    "print(\"Train Dataset Balance:\", train_dataset_balance)\n",
    "print(\"Validation Dataset Balance:\", val_dataset_balance)\n",
    "print(\"Test Dataset Balance:\", test_dataset_balance)\n"
   ]
  },
  {
   "cell_type": "code",
   "execution_count": null,
   "metadata": {},
   "outputs": [
    {
     "name": "stdout",
     "output_type": "stream",
     "text": [
      "Train Loader:\n",
      "First image shape: torch.Size([3, 256, 256])\n",
      "First image label: tensor(0)\n",
      "\n",
      "Validation Loader:\n",
      "First image shape: torch.Size([3, 256, 256])\n",
      "First image label: tensor(0)\n",
      "\n",
      "Test Loader:\n",
      "First image shape: torch.Size([3, 256, 256])\n",
      "First image label: tensor(0)\n"
     ]
    }
   ],
   "source": [
    "# 데이터 로더가 올바른 데이터셋을 참조하는지 확인\n",
    "def check_dataloader(dataloader):\n",
    "    for images, labels in dataloader:\n",
    "        # 첫 번째 배치의 첫 번째 이미지와 레이블을 출력\n",
    "        print(\"First image shape:\", images[0].shape)\n",
    "        print(\"First image label:\", labels[0])\n",
    "        break\n",
    "\n",
    "print(\"Train Loader:\")\n",
    "check_dataloader(train_loader)\n",
    "print(\"\\nValidation Loader:\")\n",
    "check_dataloader(val_loader)\n",
    "print(\"\\nTest Loader:\")\n",
    "check_dataloader(test_loader)\n"
   ]
  },
  {
   "cell_type": "code",
   "execution_count": null,
   "metadata": {},
   "outputs": [],
   "source": []
  }
 ],
 "metadata": {
  "kernelspec": {
   "display_name": "Python 3",
   "language": "python",
   "name": "python3"
  },
  "language_info": {
   "codemirror_mode": {
    "name": "ipython",
    "version": 3
   },
   "file_extension": ".py",
   "mimetype": "text/x-python",
   "name": "python",
   "nbconvert_exporter": "python",
   "pygments_lexer": "ipython3",
   "version": "3.11.5"
  }
 },
 "nbformat": 4,
 "nbformat_minor": 2
}
